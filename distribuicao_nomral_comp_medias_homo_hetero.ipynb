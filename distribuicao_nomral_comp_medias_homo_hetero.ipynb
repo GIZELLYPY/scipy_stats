{
 "cells": [
  {
   "cell_type": "markdown",
   "metadata": {},
   "source": [
    "### Teste para verificar se sua amostra é Gaussiana"
   ]
  },
  {
   "cell_type": "markdown",
   "metadata": {},
   "source": [
    "#### Execute o teste de Shapiro-Wilk para verificar se um conjunto de dados é ou não de distribuição normal (Gaussina)\n",
    "\n",
    "O teste de Shapiro-Wilk testa a hipótese nula de que os dados foram extraídos de uma distribuição normal."
   ]
  },
  {
   "cell_type": "markdown",
   "metadata": {},
   "source": [
    "##### H0: a amostra tem distribuição gaussiana.\n",
    "##### H1: a amostra não possui distribuição gaussiana."
   ]
  },
  {
   "cell_type": "code",
   "execution_count": 10,
   "metadata": {},
   "outputs": [
    {
     "name": "stdout",
     "output_type": "stream",
     "text": [
      "A estatística de teste -> stat=0.982, valor p -> p=0.206\n",
      "Provavelmente Gaussiana, há indícios para aceitar Ho.\n"
     ]
    }
   ],
   "source": [
    "\n",
    "\n",
    "from scipy.stats import shapiro\n",
    "import numpy as np\n",
    "\n",
    "\n",
    "\n",
    "data = np.random.normal(size=100)\n",
    "stat, p = shapiro(data)\n",
    "\n",
    "print('A estatística de teste -> stat=%.3f, valor p -> p=%.3f' % (stat,p))\n",
    "\n",
    "# Este algoritmo utiliza um nível de confiança igual a 95%, logo alpha = 0,05\n",
    "\n",
    "if p > 0.05: # Comparando o valor de p com alpha.\n",
    "    \n",
    "    print('Provavelmente Gaussiana, há indícios para aceitar Ho.')\n",
    "else:\n",
    "    print('Provavelmente não Gaussiana, há indícios para rejeitar Ho.')"
   ]
  },
  {
   "cell_type": "markdown",
   "metadata": {},
   "source": [
    "    * Estatística de teste: é uma estatística amostral ou um valor baseado nos dados amostrais. Utiliza-se uma estatística de teste para tomar uma decisão sobre a rejeição ou não da hipótese nula. \n",
    "\n",
    "    * Valor p:  O valor 'p' quantifica o erro cometido ao rejeitar a hipótese nula. Um valor 'p' muito pequeno sugere que os resultados amostrais são muito improváveis sob a hipótese nula, ou seja, constitui evidência contra a hipótese nula.  \n",
    "    \n",
    "> Critérios de decisão para o valor p:\n",
    "\n",
    " <b>Rejeitar a hipótese nula Ho:</b>  se o valor 'p' é no máximo igual ao nível de significância.\n",
    " \n",
    "<b>Não Rejeitar a hipótese nula Ho:</b> se o valor 'p' é maior do que o nível de significância."
   ]
  },
  {
   "cell_type": "markdown",
   "metadata": {},
   "source": [
    "#### Verificação Gráfica"
   ]
  },
  {
   "cell_type": "code",
   "execution_count": 6,
   "metadata": {},
   "outputs": [],
   "source": [
    "import seaborn as sns"
   ]
  },
  {
   "cell_type": "code",
   "execution_count": 12,
   "metadata": {},
   "outputs": [
    {
     "data": {
      "image/png": "[encoded data removed]",
      "text/plain": [
       "<Figure size 432x288 with 1 Axes>"
      ]
     },
     "metadata": {
      "needs_background": "light"
     },
     "output_type": "display_data"
    }
   ],
   "source": [
    "sns.kdeplot(data, shade=True);"
   ]
  },
  {
   "cell_type": "code",
   "execution_count": null,
   "metadata": {},
   "outputs": [],
   "source": []
  },
  {
   "cell_type": "markdown",
   "metadata": {},
   "source": [
    "### Teste para verificar se suas amostras  são pareadas ou independentes"
   ]
  },
  {
   "cell_type": "markdown",
   "metadata": {},
   "source": [
    "> Uma amostra pareada corresponde ao levantamento de dados da mesma amostra em duas situações nas quais tenha interferido algum fator cujo efeito deseja-se avaliar. Por exemplo medir o nível de insulina antes e depois de aplicar uma medicação. \n",
    "\n",
    "> Já amostras independentes trata-se de de duas amostras de distintas populações. Por exemplo comparar o rendimento acadêmico de duas turmas distintas que possuem métodos de ensino distintos, ou duas turmas distintas que cursaram ou não determinado curso. Em caso de amostras independentes é preciso ainda realizar um teste antes de tudo, para verificar se são Homocedásticas(possuem variâncias iguais) ou Heterocedásticas (possuem variâncias diferentes). Pois isso afetará a apuração do grau de liberdade e do Intervalo de Confiança.\n"
   ]
  },
  {
   "cell_type": "markdown",
   "metadata": {},
   "source": [
    "<b> H0: São independentes.</b>\n",
    "\n",
    "\n",
    "<b> H1: São pareadas.<b>"
   ]
  },
  {
   "cell_type": "markdown",
   "metadata": {},
   "source": [
    "##### Teste de Correlação de Classificação de Spearman: Testa se duas amostras tem relação monotônica "
   ]
  },
  {
   "cell_type": "markdown",
   "metadata": {},
   "source": [
    "Calcula um coeficiente de correlação de Spearman com o valor p associado.\n",
    "\n",
    "O coeficiente de correlação de ordem de classificação de Spearman é uma medida não paramétrica da monotonicidade da relação entre dois conjuntos de dados. Ao contrário da correlação de Pearson, a correlação de Spearman não assume que ambos os conjuntos de dados são normalmente distribuídos. Como outros coeficientes de correlação, este varia entre -1 e +1, com 0 implicando em nenhuma correlação. Correlações de -1 ou +1 implicam em uma relação monotônica exata. Correlações positivas implicam que à medida que x aumenta, y também aumenta. Correlações negativas implicam que à medida que x aumenta, y diminui.\n",
    "\n",
    "https://docs.scipy.org/doc/scipy/reference/generated/scipy.stats.spearmanr.html"
   ]
  },
  {
   "cell_type": "code",
   "execution_count": 54,
   "metadata": {},
   "outputs": [
    {
     "name": "stdout",
     "output_type": "stream",
     "text": [
      "p=0.002\n",
      "Coeficiente de correlação:  0.8545454545454544\n",
      "H1: São Pareadas.\n"
     ]
    }
   ],
   "source": [
    "from scipy.stats import spearmanr\n",
    "\n",
    "data1 = [0.873, 2.817, 0.121, -0.945, -0.055, -1.436, 0.360, -1.478, -1.637, -1.869]\n",
    "data2 = [0.353, 3.517, 0.125, -7.545, -0.555, -1.536, 3.350, -1.578, -3.537, -1.579]\n",
    "\n",
    "rho,p = spearmanr(data1,data2)\n",
    "\n",
    "print('p=%.3f' % (p))\n",
    "print('Coeficiente de correlação: ',rho)\n",
    "\n",
    "# Este algoritmo utiliza um nível de confiança igual a 95%, logo alpha = 0,05\n",
    "\n",
    "if p > 0.05:\n",
    "    print('H0: São independentes.')\n",
    "else:\n",
    "    print('H1: São Pareadas.')\n"
   ]
  },
  {
   "cell_type": "code",
   "execution_count": null,
   "metadata": {},
   "outputs": [],
   "source": []
  },
  {
   "cell_type": "markdown",
   "metadata": {},
   "source": [
    "#### Teste de Correlação de Classificação de Pearson: Testa se duas amostras têm uma relação linear"
   ]
  },
  {
   "cell_type": "markdown",
   "metadata": {},
   "source": [
    "O coeficiente de correlação de Pearson mede a relação linear entre dois conjuntos de dados. O cálculo do valor p baseia-se na suposição de que cada conjunto de dados é normalmente distribuído.Como outros coeficientes de correlação, este varia entre -1 e +1 com 0 implicando nenhuma correlação. Correlações de -1 ou +1 implicam em uma relação linear exata. Correlações positivas implicam que à medida que x aumenta, y também aumenta. Correlações negativas implicam que à medida que x aumenta, y diminui.\n",
    "\n",
    "O valor p indica aproximadamente a probabilidade de um sistema não correlacionado produzir conjuntos de dados que têm uma correlação de Pearson pelo menos tão extrema quanto a calculada a partir desses conjuntos de dados.\n",
    "https://docs.scipy.org/doc/scipy/reference/generated/scipy.stats.pearsonr.html"
   ]
  },
  {
   "cell_type": "code",
   "execution_count": 55,
   "metadata": {},
   "outputs": [
    {
     "name": "stdout",
     "output_type": "stream",
     "text": [
      "p=0.028\n",
      "Coeficiente de Correlação de Pearson:  0.6879696368388862\n",
      "H1: São Pareadas.\n"
     ]
    }
   ],
   "source": [
    "from scipy.stats import pearsonr\n",
    "\n",
    "data1 = [0.873, 2.817, 0.121, -0.945, -0.055, -1.436, 0.360, -1.478, -1.637, -1.869]\n",
    "data2 = [0.353, 3.517, 0.125, -7.545, -0.555, -1.536, 3.350, -1.578, -3.537, -1.579]\n",
    "\n",
    "r,p = pearsonr(data1,data2)\n",
    "\n",
    "print('p=%.3f' % (p))\n",
    "print('Coeficiente de Correlação de Pearson: ', r)\n",
    "\n",
    "# Este algoritmo utiliza um nível de confiança igual a 95%, logo alpha = 0,05\n",
    "\n",
    "if p > 0.05:\n",
    "    print('H0: São independentes.')\n",
    "else:\n",
    "    print('H1: São Pareadas.')"
   ]
  },
  {
   "cell_type": "markdown",
   "metadata": {},
   "source": [
    "### Se as amostras  são independentes, execute o teste de Levene para verificar se são Homocedásticas ou Heterocedásticas"
   ]
  },
  {
   "cell_type": "markdown",
   "metadata": {},
   "source": [
    "<b> H0: Possuem variâncias iguais: Homocedásticas.</b>\n",
    "\n",
    "\n",
    "<b> H1:  Possuem variâncias diferentes: Heterocedásticas.<b>"
   ]
  },
  {
   "cell_type": "markdown",
   "metadata": {},
   "source": [
    "Execute o teste de Levene para variâncias iguais.\n",
    "\n",
    "O teste de Levene testa a hipótese nula de que todas as amostras de entrada são de populações com variâncias iguais. O teste de Levene é uma alternativa ao teste de Bartlett bartlettno caso em que há desvios significativos da normalidade. https://docs.scipy.org/doc/scipy/reference/generated/scipy.stats.levene.html"
   ]
  },
  {
   "cell_type": "markdown",
   "metadata": {},
   "source": [
    "Primeiramente vamos verificar se nossos dados são  realmente independentes. Se forem independentes iremos em seguida verificar se são Homocedásticas ou Heterocedásticas."
   ]
  },
  {
   "cell_type": "code",
   "execution_count": 57,
   "metadata": {},
   "outputs": [
    {
     "name": "stdout",
     "output_type": "stream",
     "text": [
      "p=0.881\n",
      "Coeficiente de correlação:  -0.05454545454545454\n",
      "H0: São independentes. Utilize levene para verificar se as variâncias são iguais\n"
     ]
    }
   ],
   "source": [
    "a = [8.88, 9.12, 9.04, 8.98, 9.00, 9.08, 9.01, 8.85, 9.06, 8.99]\n",
    "b = [8.88, 8.95, 9.29, 9.44, 9.15, 9.58, 8.36, 9.18, 8.67, 9.05]\n",
    "\n",
    "rho,p = spearmanr(a,b)\n",
    "\n",
    "print('p=%.3f' % (p))\n",
    "print('Coeficiente de correlação: ',rho)\n",
    "\n",
    "# Este algoritmo utiliza um nível de confiança igual a 95%, logo alpha = 0,05\n",
    "\n",
    "if p > 0.05:\n",
    "    print('H0: São independentes. Utilize levene para verificar se as variâncias são iguais')\n",
    "else:\n",
    "    print('H1:São pareadas.')"
   ]
  },
  {
   "cell_type": "code",
   "execution_count": 56,
   "metadata": {},
   "outputs": [
    {
     "name": "stdout",
     "output_type": "stream",
     "text": [
      "p=0.973\n",
      "Coeficiente de Correlação de Pearson:  0.012256557131241642\n",
      "H0: São independentes. Utilize levene para verificar se as variâncias são iguais\n"
     ]
    }
   ],
   "source": [
    "r,p = pearsonr(a,b)\n",
    "\n",
    "print('p=%.3f' % (p))\n",
    "print('Coeficiente de Correlação de Pearson: ', r)\n",
    "\n",
    "# Este algoritmo utiliza um nível de confiança igual a 95%, logo alpha = 0,05\n",
    "\n",
    "if p > 0.05:\n",
    "    print('H0: São independentes. Utilize levene para verificar se as variâncias são iguais')\n",
    "else:\n",
    "    print('H1: São Pareadas.')"
   ]
  },
  {
   "cell_type": "markdown",
   "metadata": {},
   "source": [
    "<b>Ho: Amostras de entrada são de populações com variâncias iguais</b>\n",
    "\n",
    "<b>Ha: Amostras de entrada são de populações com variâncias diferentes</b>"
   ]
  },
  {
   "cell_type": "code",
   "execution_count": 42,
   "metadata": {},
   "outputs": [
    {
     "name": "stdout",
     "output_type": "stream",
     "text": [
      "p=0.009\n",
      "Ha: Amostras de entrada são de populações com variâncias diferentes -> Heterocedásticas\n"
     ]
    }
   ],
   "source": [
    "from scipy.stats import levene\n",
    "\n",
    "stat, p = levene(a, b)\n",
    "\n",
    "print('p=%.3f' % (p))\n",
    "\n",
    "if p > 0.05:\n",
    "    print('Ho: Amostras de entrada são de populações com variâncias iguais -> Homocedásticas')\n",
    "else:\n",
    "    print('Ha: Amostras de entrada são de populações com variâncias diferentes -> Heterocedásticas')"
   ]
  },
  {
   "cell_type": "markdown",
   "metadata": {},
   "source": [
    "#### Teste t de student para comparação de média de duas populações independentes Heterocedásticas"
   ]
  },
  {
   "cell_type": "markdown",
   "metadata": {},
   "source": [
    "* As observações em cada amostra são independentes \n",
    "* As observações em cada amostra são normalmente distribuídas.\n",
    "* As observações em cada amostra têm <b>diferentes variâncias.</b>"
   ]
  },
  {
   "cell_type": "code",
   "execution_count": null,
   "metadata": {},
   "outputs": [],
   "source": []
  },
  {
   "cell_type": "markdown",
   "metadata": {},
   "source": [
    "<b> Ho: População com Médias iguais</b>\n",
    "\n",
    "\n",
    "<b> Ha: População com Médias diferentes<b>"
   ]
  },
  {
   "cell_type": "code",
   "execution_count": 53,
   "metadata": {},
   "outputs": [
    {
     "name": "stdout",
     "output_type": "stream",
     "text": [
      "p=0.655\n",
      "Ho: População com Médias iguais\n"
     ]
    }
   ],
   "source": [
    "from scipy.stats import ttest_ind\n",
    "\n",
    "# ttest_ind Calcule o teste T \n",
    "# para as médias de duas amostras independentes de pontuação.\n",
    "# https://docs.scipy.org/doc/scipy/reference/generated/scipy.stats.ttest_ind.html\n",
    "\n",
    "# equal_var = False, se as variancias forem diferentes (Heterocedásticas) \n",
    "stats, p = ttest_ind(a,b, equal_var = False)\n",
    "\n",
    "print('p=%.3f' % (p))\n",
    "\n",
    "if p > 0.05:\n",
    "    print('Ho: População com Médias iguais')\n",
    "else:\n",
    "    print('Ha: População com Médias diferentes')"
   ]
  },
  {
   "cell_type": "code",
   "execution_count": null,
   "metadata": {},
   "outputs": [],
   "source": []
  },
  {
   "cell_type": "code",
   "execution_count": null,
   "metadata": {},
   "outputs": [],
   "source": []
  },
  {
   "cell_type": "markdown",
   "metadata": {},
   "source": [
    "#### Teste t de student para comparação de médias de amostras independentes Homocedásticas"
   ]
  },
  {
   "cell_type": "markdown",
   "metadata": {},
   "source": [
    "> Os testes t são testes de hipótese úteis na estatística quando é necessário comparar médias."
   ]
  },
  {
   "cell_type": "markdown",
   "metadata": {},
   "source": [
    "\n",
    "* As observações em cada amostra são independentes \n",
    "* As observações em cada amostra são normalmente distribuídas.\n",
    "* As observações em cada amostra têm a <b>mesma variância.</b>"
   ]
  },
  {
   "cell_type": "code",
   "execution_count": 58,
   "metadata": {},
   "outputs": [],
   "source": [
    "c = [0.873, 2.817, 0.121, -0.945, -0.055, -1.436, 0.360, -1.478, -1.637, -1.869]\n",
    "d = [1.142, -0.432, -0.938, -0.729, -0.846, -0.157, 0.500, 1.183, -1.075, -0.169]"
   ]
  },
  {
   "cell_type": "code",
   "execution_count": 59,
   "metadata": {},
   "outputs": [
    {
     "name": "stdout",
     "output_type": "stream",
     "text": [
      "p=0.726\n",
      "Coeficiente de correlação:  0.12727272727272726\n",
      "H0: São independentes. Utilize levene para verificar se as variâncias são iguais\n"
     ]
    }
   ],
   "source": [
    "rho,p = spearmanr(c,d)\n",
    "\n",
    "print('p=%.3f' % (p))\n",
    "print('Coeficiente de correlação: ',rho)\n",
    "\n",
    "# Este algoritmo utiliza um nível de confiança igual a 95%, logo alpha = 0,05\n",
    "\n",
    "if p > 0.05:\n",
    "    print('H0: São independentes. Utilize levene para verificar se as variâncias são iguais')\n",
    "else:\n",
    "    print('H1:São pareadas.')"
   ]
  },
  {
   "cell_type": "code",
   "execution_count": 60,
   "metadata": {},
   "outputs": [
    {
     "name": "stdout",
     "output_type": "stream",
     "text": [
      "p=0.123\n",
      "Ho: Amostras de entrada são de populações com variâncias iguais -> Homocedásticas\n"
     ]
    }
   ],
   "source": [
    "\n",
    "\n",
    "\n",
    "\n",
    "\n",
    "stat, p = levene(c, d)\n",
    "\n",
    "print('p=%.3f' % (p))\n",
    "\n",
    "if p > 0.05:\n",
    "    print('Ho: Amostras de entrada são de populações com variâncias iguais -> Homocedásticas')\n",
    "else:\n",
    "    print('Ha: Amostras de entrada são de populações com variâncias diferentes -> Heterocedásticas')"
   ]
  },
  {
   "cell_type": "markdown",
   "metadata": {},
   "source": [
    "<b> Ho: População com Médias iguais</b>\n",
    "\n",
    "\n",
    "<b> Ha: População com Médias diferentes<b>"
   ]
  },
  {
   "cell_type": "code",
   "execution_count": 61,
   "metadata": {},
   "outputs": [
    {
     "name": "stdout",
     "output_type": "stream",
     "text": [
      "p=0.748\n",
      "Ho: População com Médias iguais\n"
     ]
    }
   ],
   "source": [
    "from scipy.stats import ttest_ind\n",
    "\n",
    "# ttest_ind Calcule o teste T \n",
    "# para as médias de duas amostras independentes de pontuação.\n",
    " \n",
    "# https://docs.scipy.org/doc/scipy/reference/generated/scipy.stats.ttest_ind.html\n",
    "\n",
    "\n",
    "# equal_var = True , se as variancias forem iguais (Homocedásticas)\n",
    "stats, p = ttest_ind(c,d, equal_var = True)\n",
    "\n",
    "print('p=%.3f' % (p))\n",
    "\n",
    "if p > 0.05:\n",
    "    print('Ho: População com Médias iguais')\n",
    "else:\n",
    "    print('Ha: População com Médias diferentes')"
   ]
  },
  {
   "cell_type": "code",
   "execution_count": null,
   "metadata": {},
   "outputs": [],
   "source": []
  },
  {
   "cell_type": "code",
   "execution_count": null,
   "metadata": {},
   "outputs": [],
   "source": []
  }
 ],
 "metadata": {
  "kernelspec": {
   "display_name": "Python 3",
   "language": "python",
   "name": "python3"
  },
  "language_info": {
   "codemirror_mode": {
    "name": "ipython",
    "version": 3
   },
   "file_extension": ".py",
   "mimetype": "text/x-python",
   "name": "python",
   "nbconvert_exporter": "python",
   "pygments_lexer": "ipython3",
   "version": "3.7.3"
  }
 },
 "nbformat": 4,
 "nbformat_minor": 2
}
